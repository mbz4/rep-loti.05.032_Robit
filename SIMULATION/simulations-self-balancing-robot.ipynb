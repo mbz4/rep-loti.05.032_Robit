{
 "cells": [
  {
   "attachments": {
    "8f10e3f1-6700-462b-8adc-612571ce6664.png": {
     "image/png": "[encoded data removed]"
    }
   },
   "cell_type": "markdown",
   "id": "endangered-modification",
   "metadata": {
    "papermill": {
     "duration": 0.013234,
     "end_time": "2021-06-19T17:59:51.370462",
     "exception": false,
     "start_time": "2021-06-19T17:59:51.357228",
     "status": "completed"
    },
    "tags": []
   },
   "source": [
    "# Self-balancing robot simulation\n",
    "\n",
    "##### SRC >> [zjor86: \"simulations: self-balancing robot\"](https://www.kaggle.com/code/zjor86/simulations-self-balancing-robot)\n",
    "\n",
    "This notebook contains equations and controller design necessary to stabilize a self-balancing robot, contor it's velocity and position.\n",
    "\n",
    "The model considered below looks as follows:\n",
    "\n",
    "![model1.png](model1.png)\n",
    "\n",
    "## Free fall model\n",
    "Let's start with a frictionless model allowing free motion. A mass (m) is attached to a wheel (mass: M, radius: R, moment of inertia $ I = \\frac{1}{2} \\cdot M \\cdot R $) with the rod of length (L).\n",
    "\n",
    "The governing equations looks as follows:\n",
    "$$\n",
    "\\begin{cases}\n",
    "\\ddot{\\phi} = \\frac{mLR\\dot{\\theta}^2sin(\\theta) - mgRsin(\\theta)cos(\\theta)}{mR^2sin(\\theta)^2 + I},\\\\\n",
    "\\ddot{\\theta} = \\frac{gsin(\\theta) - R\\phi^2cos(\\theta)}{L}\n",
    "\\end{cases}\n",
    "$$\n",
    "\n",
    "Reusing solver from one of the [prevoius notebooks](https://www.kaggle.com/zjor86/ode-solver)"
   ]
  },
  {
   "cell_type": "code",
   "execution_count": 3,
   "id": "linear-bailey",
   "metadata": {
    "execution": {
     "iopub.execute_input": "2021-06-19T17:59:51.405802Z",
     "iopub.status.busy": "2021-06-19T17:59:51.405322Z",
     "iopub.status.idle": "2021-06-19T17:59:51.407875Z",
     "shell.execute_reply": "2021-06-19T17:59:51.407427Z",
     "shell.execute_reply.started": "2021-06-13T17:00:42.548412Z"
    },
    "papermill": {
     "duration": 0.024925,
     "end_time": "2021-06-19T17:59:51.407995",
     "exception": false,
     "start_time": "2021-06-19T17:59:51.383070",
     "status": "completed"
    },
    "tags": []
   },
   "outputs": [],
   "source": [
    "import numpy as np\n",
    "from numpy import sin, cos, pi\n",
    "\n",
    "%matplotlib inline\n",
    "import matplotlib.pyplot as plt\n",
    "from matplotlib import animation\n",
    "plt.style.use('seaborn-whitegrid')"
   ]
  },
  {
   "cell_type": "code",
   "execution_count": 4,
   "id": "sustained-museum",
   "metadata": {
    "_cell_guid": "b1076dfc-b9ad-4769-8c92-a6c4dae69d19",
    "_uuid": "8f2839f25d086af736a60e9eeb907d3b93b6e0e5",
    "execution": {
     "iopub.execute_input": "2021-06-19T17:59:51.439440Z",
     "iopub.status.busy": "2021-06-19T17:59:51.438929Z",
     "iopub.status.idle": "2021-06-19T17:59:51.440839Z",
     "shell.execute_reply": "2021-06-19T17:59:51.441279Z",
     "shell.execute_reply.started": "2021-06-13T17:00:42.579692Z"
    },
    "papermill": {
     "duration": 0.021464,
     "end_time": "2021-06-19T17:59:51.441417",
     "exception": false,
     "start_time": "2021-06-19T17:59:51.419953",
     "status": "completed"
    },
    "tags": []
   },
   "outputs": [],
   "source": [
    "def solve(initial_state, times, integrate_func, derivative_func):\n",
    "    \"\"\"\n",
    "    Solves the initial-value problem of the first order ODEs\n",
    "    :param initial_state: initial state\n",
    "    :param times: a sequence of time points for which to solve\n",
    "    :param integrate_func: calculates the next state\n",
    "    :param derivative_func: computes derivatives of each state component\n",
    "    :return:\n",
    "    \"\"\"\n",
    "    dt = times[1] - times[0]\n",
    "    states = [initial_state]\n",
    "    for step, t in enumerate(times):\n",
    "        states.append(integrate_func(states[-1], step, t, dt, derivative_func))\n",
    "    return np.array(states)\n",
    "\n",
    "def integrate_rk4(state, step, t, dt, dydx_func):\n",
    "    \"\"\"\n",
    "    Fourth-order Runge-Kutta method.\n",
    "    Source: https://www.geeksforgeeks.org/runge-kutta-4th-order-method-solve-differential-equation/\n",
    "    :param step:\n",
    "    :param state:\n",
    "    :param t:\n",
    "    :param dt:\n",
    "    :param dydx_func:\n",
    "    :return:\n",
    "    \"\"\"\n",
    "    k1 = dydx_func(state, step, t, dt)\n",
    "    k2 = dydx_func([v + d * dt / 2 for v, d in zip(state, k1)], step, t, dt)\n",
    "    k3 = dydx_func([v + d * dt / 2 for v, d in zip(state, k2)], step, t, dt)\n",
    "    k4 = dydx_func([v + d * dt for v, d in zip(state, k3)], step, t, dt)\n",
    "    return [v + (k1_ + 2 * k2_ + 2 * k3_ + k4_) * dt / 6 for v, k1_, k2_, k3_, k4_ in zip(state, k1, k2, k3, k4)]"
   ]
  },
  {
   "cell_type": "code",
   "execution_count": 8,
   "id": "exempt-occasions",
   "metadata": {
    "execution": {
     "iopub.execute_input": "2021-06-19T17:59:51.468929Z",
     "iopub.status.busy": "2021-06-19T17:59:51.468430Z",
     "iopub.status.idle": "2021-06-19T17:59:51.472926Z",
     "shell.execute_reply": "2021-06-19T17:59:51.473476Z",
     "shell.execute_reply.started": "2021-06-13T17:00:42.589204Z"
    },
    "papermill": {
     "duration": 0.019788,
     "end_time": "2021-06-19T17:59:51.473622",
     "exception": false,
     "start_time": "2021-06-19T17:59:51.453834",
     "status": "completed"
    },
    "tags": []
   },
   "outputs": [],
   "source": [
    "r = 0.12 # radius: R [m]\n",
    "l = 0.2 # rod of length (L) [kg]\n",
    "M = 0.1 # wheel mass: M [kg]\n",
    "m = 1.1 #mass (m), attached to wheel [kg]\n",
    "g = 9.8 #[m/s2]\n",
    "\n",
    "I = 0.5 * M * r # moment of inertia $ I = \\frac{1}{2} \\cdot M \\cdot R $) \n",
    "\n",
    "def derivate(state, step, t, dt):\n",
    "    dth, th, dphi, phi = state\n",
    "\n",
    "    _dphi = (m * l * r * dth ** 2 * sin(th) - m * g * r * sin(th) * cos(th)) / (m * r ** 2 * sin(th) ** 2 + I)\n",
    "    _dth = (g * sin(th) - r * _dphi * cos(th)) / l\n",
    "\n",
    "    return [_dth, dth, _dphi, dphi]"
   ]
  },
  {
   "cell_type": "code",
   "execution_count": 9,
   "id": "educated-sperm",
   "metadata": {
    "execution": {
     "iopub.execute_input": "2021-06-19T17:59:51.501101Z",
     "iopub.status.busy": "2021-06-19T17:59:51.500571Z",
     "iopub.status.idle": "2021-06-19T17:59:51.614012Z",
     "shell.execute_reply": "2021-06-19T17:59:51.613562Z",
     "shell.execute_reply.started": "2021-06-13T17:00:46.928574Z"
    },
    "papermill": {
     "duration": 0.128172,
     "end_time": "2021-06-19T17:59:51.614142",
     "exception": false,
     "start_time": "2021-06-19T17:59:51.485970",
     "status": "completed"
    },
    "tags": []
   },
   "outputs": [],
   "source": [
    "times = np.linspace(0, 10, 500)\n",
    "solution = solve([0.0, pi / 12, .0, .0], times, integrate_rk4, derivate)\n",
    "\n",
    "def render(solution):\n",
    "    theta = solution[:, 1]\n",
    "    phi = solution[:, 3]\n",
    "\n",
    "    wheel_x = phi * r\n",
    "\n",
    "    spot_r = 0.7 * r\n",
    "    wheel_spot_x = wheel_x + spot_r * cos(phi - pi / 2)\n",
    "    wheel_spot_y = r - spot_r * sin(phi - pi / 2)\n",
    "\n",
    "    mass_x = wheel_x + l * cos(theta - pi / 2)\n",
    "    mass_y = r - l * sin(theta - pi / 2)\n",
    "\n",
    "    fig = plt.figure()\n",
    "    ax = fig.add_subplot(111, autoscale_on=False, xlim=(-1.5, 1.5), ylim=(-1.5, 1.5))\n",
    "    ax.set_aspect('equal')\n",
    "    ax.grid(True)\n",
    "\n",
    "    line, = ax.plot([], [], 'k-', lw=2)\n",
    "    wheel = plt.Circle((0.0, r), r, color='black', fill=False, lw=2)\n",
    "    wheel_spot = plt.Circle((0.0, spot_r), 0.02, color='red')\n",
    "    mass = plt.Circle((0.0, 0.0), 0.1, color='black')\n",
    "\n",
    "\n",
    "    def init():\n",
    "        return []\n",
    "\n",
    "\n",
    "    def animate(i):\n",
    "        wheel.set_center((wheel_x[i], r))\n",
    "        wheel_spot.set_center((wheel_spot_x[i], wheel_spot_y[i]))\n",
    "        mass.set_center((mass_x[i], mass_y[i]))\n",
    "        line.set_data([wheel_x[i], mass_x[i]], [r, mass_y[i]])\n",
    "        patches = [line, ax.add_patch(wheel), ax.add_patch(wheel_spot), ax.add_patch(mass)]\n",
    "        return patches\n",
    "\n",
    "\n",
    "    ani = animation.FuncAnimation(fig, animate, np.arange(1, len(solution)),interval=25, blit=True, init_func=init)    \n",
    "    plt.close(fig)\n",
    "    return ani\n",
    "\n",
    "ani = render(solution)"
   ]
  },
  {
   "cell_type": "markdown",
   "id": "5bad0c72",
   "metadata": {},
   "source": [
    "### following cell generates a gif animation of the robot model\n",
    "#### runs for ~2'"
   ]
  },
  {
   "cell_type": "code",
   "execution_count": 10,
   "id": "handmade-domestic",
   "metadata": {
    "execution": {
     "iopub.execute_input": "2021-06-19T17:59:51.647316Z",
     "iopub.status.busy": "2021-06-19T17:59:51.646788Z",
     "iopub.status.idle": "2021-06-19T18:02:24.557908Z",
     "shell.execute_reply": "2021-06-19T18:02:24.558318Z",
     "shell.execute_reply.started": "2021-06-13T17:00:42.883097Z"
    },
    "papermill": {
     "duration": 152.931494,
     "end_time": "2021-06-19T18:02:24.558451",
     "exception": false,
     "start_time": "2021-06-19T17:59:51.626957",
     "status": "completed"
    },
    "tags": []
   },
   "outputs": [
    {
     "name": "stdout",
     "output_type": "stream",
     "text": [
      "CPU times: user 1min 26s, sys: 256 ms, total: 1min 26s\n",
      "Wall time: 1min 49s\n"
     ]
    }
   ],
   "source": [
    "%time ani.save('free_robot.gif', writer='imagemagick', fps=24)"
   ]
  },
  {
   "cell_type": "markdown",
   "id": "sustainable-transportation",
   "metadata": {
    "papermill": {
     "duration": 0.012503,
     "end_time": "2021-06-19T18:02:24.583993",
     "exception": false,
     "start_time": "2021-06-19T18:02:24.571490",
     "status": "completed"
    },
    "tags": []
   },
   "source": [
    "![](./free_robot.gif)"
   ]
  },
  {
   "attachments": {
    "8845f7a5-791a-4330-adfe-eb5b9ce114e2.png": {
     "image/png": "[encoded data removed]"
    }
   },
   "cell_type": "markdown",
   "id": "offensive-hunter",
   "metadata": {
    "papermill": {
     "duration": 0.012531,
     "end_time": "2021-06-19T18:02:24.609200",
     "exception": false,
     "start_time": "2021-06-19T18:02:24.596669",
     "status": "completed"
    },
    "tags": []
   },
   "source": [
    "## Adding feedback loop for angle and velocity control\n",
    "\n",
    "Upright position and the velocity can be controlled with the following feedback loops.\n",
    "\n",
    "![feedback.png](feedback.png)\n",
    "\n",
    "\n",
    "In this setup it finds new balance point if the velocity keeps being different for a long time."
   ]
  },
  {
   "cell_type": "code",
   "execution_count": 11,
   "id": "stock-gibson",
   "metadata": {
    "execution": {
     "iopub.execute_input": "2021-06-19T18:02:24.641308Z",
     "iopub.status.busy": "2021-06-19T18:02:24.640777Z",
     "iopub.status.idle": "2021-06-19T18:02:24.644352Z",
     "shell.execute_reply": "2021-06-19T18:02:24.643749Z",
     "shell.execute_reply.started": "2021-06-13T17:22:52.046798Z"
    },
    "papermill": {
     "duration": 0.022694,
     "end_time": "2021-06-19T18:02:24.644469",
     "exception": false,
     "start_time": "2021-06-19T18:02:24.621775",
     "status": "completed"
    },
    "tags": []
   },
   "outputs": [],
   "source": [
    "class PIDController:\n",
    "    def __init__(self, k_p, k_d, k_i, target, init_value=0.0):\n",
    "        self.Kp = k_p\n",
    "        self.Kd = k_d\n",
    "        self.Ki = k_i\n",
    "        self.target = target\n",
    "        self.lastValue = init_value\n",
    "        self.integral_error = 0.0\n",
    "\n",
    "    def get_control(self, value, dt):\n",
    "        \"\"\"\n",
    "            Returns PID control.\n",
    "            Derivative spike is mitigated by dError/dt = -dInput/dt\n",
    "            see: http://brettbeauregard.com/blog/2011/04/improving-the-beginner%e2%80%99s-pid-derivative-kick/\n",
    "        \"\"\"\n",
    "        error = self.target - value\n",
    "\n",
    "        derivative = -(value - self.lastValue) / dt\n",
    "\n",
    "        self.lastValue = value\n",
    "        self.integral_error += error * dt\n",
    "        return self.Kp * error + self.Kd * derivative + self.Ki * self.integral_error\n",
    "\n",
    "    def set_target(self, target):\n",
    "        self.target = target"
   ]
  },
  {
   "cell_type": "code",
   "execution_count": 12,
   "id": "split-matter",
   "metadata": {
    "execution": {
     "iopub.execute_input": "2021-06-19T18:02:24.677226Z",
     "iopub.status.busy": "2021-06-19T18:02:24.676744Z",
     "iopub.status.idle": "2021-06-19T18:02:24.678933Z",
     "shell.execute_reply": "2021-06-19T18:02:24.679320Z",
     "shell.execute_reply.started": "2021-06-13T17:24:14.234167Z"
    },
    "papermill": {
     "duration": 0.022381,
     "end_time": "2021-06-19T18:02:24.679448",
     "exception": false,
     "start_time": "2021-06-19T18:02:24.657067",
     "status": "completed"
    },
    "tags": []
   },
   "outputs": [],
   "source": [
    "b1 = 0.01 # Friction coefficient due to rotation of the body\n",
    "b2 = 0.01 # Friction coefficient due to rotation of the wheel\n",
    "\n",
    "th_pid = PIDController(k_p=10.0, k_d=0.5, k_i=1.0, target=0.0)\n",
    "velocity_pid = PIDController(k_p=0.002, k_d=0.0, k_i=0.001, target=0.0)\n",
    "\n",
    "def limit(v, lim):\n",
    "    if v > lim:\n",
    "        return lim\n",
    "    elif v < -lim:\n",
    "        return -lim\n",
    "    else:\n",
    "        return v\n",
    "\n",
    "def derivate_velocity_pid(state, step, t, dt):\n",
    "    dth, th, dphi, phi = state\n",
    "\n",
    "    th_target = velocity_pid.get_control(dphi, dt)\n",
    "    th_pid.set_target(th_target)\n",
    "    u = -th_pid.get_control(th, dt)\n",
    "    u = limit(u, 10)\n",
    "\n",
    "    s = sin(th)\n",
    "    c = cos(th)\n",
    "\n",
    "    _dphi = (m * r * (l * dth ** 2 * s + b1 * dth * c - g * s * c) - b2 * dphi + u) / (I + m * r ** 2 * s ** 2)\n",
    "    _dth = (g * s - r * _dphi * c - b1 * dth) / l\n",
    "\n",
    "    return [_dth, dth, _dphi, dphi]\n"
   ]
  },
  {
   "cell_type": "code",
   "execution_count": 13,
   "id": "noble-david",
   "metadata": {
    "execution": {
     "iopub.execute_input": "2021-06-19T18:02:24.706678Z",
     "iopub.status.busy": "2021-06-19T18:02:24.706234Z",
     "iopub.status.idle": "2021-06-19T18:02:24.794054Z",
     "shell.execute_reply": "2021-06-19T18:02:24.793490Z",
     "shell.execute_reply.started": "2021-06-13T17:24:59.549388Z"
    },
    "papermill": {
     "duration": 0.102341,
     "end_time": "2021-06-19T18:02:24.794170",
     "exception": false,
     "start_time": "2021-06-19T18:02:24.691829",
     "status": "completed"
    },
    "tags": []
   },
   "outputs": [],
   "source": [
    "solution = solve([0.0, pi / 12, .0, .0], times, integrate_rk4, derivate_velocity_pid)\n",
    "ani = render(solution)"
   ]
  },
  {
   "cell_type": "code",
   "execution_count": 14,
   "id": "growing-doubt",
   "metadata": {
    "execution": {
     "iopub.execute_input": "2021-06-19T18:02:24.825187Z",
     "iopub.status.busy": "2021-06-19T18:02:24.824654Z",
     "iopub.status.idle": "2021-06-19T18:05:01.344243Z",
     "shell.execute_reply": "2021-06-19T18:05:01.344915Z",
     "shell.execute_reply.started": "2021-06-13T17:25:22.982193Z"
    },
    "papermill": {
     "duration": 156.538662,
     "end_time": "2021-06-19T18:05:01.345264",
     "exception": false,
     "start_time": "2021-06-19T18:02:24.806602",
     "status": "completed"
    },
    "tags": []
   },
   "outputs": [
    {
     "name": "stdout",
     "output_type": "stream",
     "text": [
      "CPU times: user 1min 24s, sys: 280 ms, total: 1min 24s\n",
      "Wall time: 1min 46s\n"
     ]
    }
   ],
   "source": [
    "%time ani.save('velocity_pid.gif', writer='imagemagick', fps=24)"
   ]
  },
  {
   "cell_type": "markdown",
   "id": "animal-teaching",
   "metadata": {
    "execution": {
     "iopub.execute_input": "2021-06-13T17:28:27.612604Z",
     "iopub.status.busy": "2021-06-13T17:28:27.612327Z",
     "iopub.status.idle": "2021-06-13T17:28:28.350431Z",
     "shell.execute_reply": "2021-06-13T17:28:28.349405Z",
     "shell.execute_reply.started": "2021-06-13T17:28:27.612577Z"
    },
    "papermill": {
     "duration": 0.013084,
     "end_time": "2021-06-19T18:05:01.371539",
     "exception": false,
     "start_time": "2021-06-19T18:05:01.358455",
     "status": "completed"
    },
    "tags": []
   },
   "source": [
    "![](./velocity_pid.gif)"
   ]
  },
  {
   "attachments": {
    "c4db288a-9457-4ce2-89f9-74b332917837.png": {
     "image/png": "[encoded data removed]"
    }
   },
   "cell_type": "markdown",
   "id": "geographic-philadelphia",
   "metadata": {
    "papermill": {
     "duration": 0.01255,
     "end_time": "2021-06-19T18:05:01.397200",
     "exception": false,
     "start_time": "2021-06-19T18:05:01.384650",
     "status": "completed"
    },
    "tags": []
   },
   "source": [
    "## Position control\n",
    "\n",
    "The diagram below shows how to control robot's position\n",
    "\n",
    "![feedback_w_ctrl.png](feedback_w_ctrl.png)"
   ]
  },
  {
   "cell_type": "code",
   "execution_count": 10,
   "id": "brilliant-measure",
   "metadata": {
    "execution": {
     "iopub.execute_input": "2021-06-19T18:05:01.462271Z",
     "iopub.status.busy": "2021-06-19T18:05:01.446678Z",
     "iopub.status.idle": "2021-06-19T18:05:01.518861Z",
     "shell.execute_reply": "2021-06-19T18:05:01.519262Z",
     "shell.execute_reply.started": "2021-06-19T16:59:59.571711Z"
    },
    "papermill": {
     "duration": 0.109231,
     "end_time": "2021-06-19T18:05:01.519397",
     "exception": false,
     "start_time": "2021-06-19T18:05:01.410166",
     "status": "completed"
    },
    "tags": []
   },
   "outputs": [],
   "source": [
    "th_pid = PIDController(k_p=40.0, k_d=20.0, k_i=0.0, target=0.0)\n",
    "position_pid = PIDController(k_p=0.07, k_d=0.07, k_i=0.0, target=0.0)\n",
    "\n",
    "def derivate_position_pid(state, step, t, dt):\n",
    "    dth, th, dphi, phi = state\n",
    "\n",
    "    th_target = position_pid.get_control(phi, dt)\n",
    "    th_pid.set_target(th_target)\n",
    "    u = -th_pid.get_control(th, dt)\n",
    "    u = limit(u, 10)\n",
    "\n",
    "    s = sin(th)\n",
    "    c = cos(th)\n",
    "\n",
    "    _dphi = (m * r * (l * dth ** 2 * s + b1 * dth * c - g * s * c) - b2 * dphi + u) / (I + m * r ** 2 * s ** 2)\n",
    "    _dth = (g * s - r * _dphi * c - b1 * dth) / l\n",
    "\n",
    "    return [_dth, dth, _dphi, dphi]\n",
    "\n",
    "solution = solve([0.0, pi / 12, .0, .0], times, integrate_rk4, derivate_position_pid)\n",
    "ani = render(solution)\n"
   ]
  },
  {
   "cell_type": "code",
   "execution_count": 55,
   "id": "49c42c60",
   "metadata": {},
   "outputs": [
    {
     "data": {
      "image/png": "[encoded data removed]",
      "text/plain": [
       "<Figure size 1120x700 with 1 Axes>"
      ]
     },
     "metadata": {},
     "output_type": "display_data"
    }
   ],
   "source": [
    "plt.rcParams[\"figure.figsize\"] = (8,5)\n",
    "plt.rcParams['figure.dpi'] = 140\n",
    "plt.plot(solution, label=[\"dth\", \"th\", \"dphi\", \"phi\"])\n",
    "plt.title(\"Angle \\ Time\")\n",
    "plt.xlabel(\"time [s]\")\n",
    "plt.ylabel(\"angle [deg]\")\n",
    "plt.legend(loc=\"upper right\")\n",
    "plt.show()"
   ]
  },
  {
   "cell_type": "code",
   "execution_count": 11,
   "id": "continued-showcase",
   "metadata": {
    "execution": {
     "iopub.execute_input": "2021-06-19T18:05:01.549330Z",
     "iopub.status.busy": "2021-06-19T18:05:01.548808Z",
     "iopub.status.idle": "2021-06-19T18:07:46.081101Z",
     "shell.execute_reply": "2021-06-19T18:07:46.081510Z"
    },
    "papermill": {
     "duration": 164.54978,
     "end_time": "2021-06-19T18:07:46.081645",
     "exception": false,
     "start_time": "2021-06-19T18:05:01.531865",
     "status": "completed"
    },
    "tags": []
   },
   "outputs": [
    {
     "name": "stdout",
     "output_type": "stream",
     "text": [
      "CPU times: user 1min 25s, sys: 252 ms, total: 1min 26s\n",
      "Wall time: 1min 46s\n"
     ]
    }
   ],
   "source": [
    "%time ani.save('position_pid.gif', writer='imagemagick', fps=24)"
   ]
  },
  {
   "cell_type": "markdown",
   "id": "beneficial-output",
   "metadata": {
    "papermill": {
     "duration": 0.012908,
     "end_time": "2021-06-19T18:07:46.108001",
     "exception": false,
     "start_time": "2021-06-19T18:07:46.095093",
     "status": "completed"
    },
    "tags": []
   },
   "source": [
    "![](./position_pid.gif)"
   ]
  },
  {
   "cell_type": "markdown",
   "id": "f37df910",
   "metadata": {},
   "source": [
    "![plotPID](plotPID.png)"
   ]
  },
  {
   "cell_type": "markdown",
   "id": "specific-generation",
   "metadata": {
    "papermill": {
     "duration": 0.013287,
     "end_time": "2021-06-19T18:07:46.134808",
     "exception": false,
     "start_time": "2021-06-19T18:07:46.121521",
     "status": "completed"
    },
    "tags": []
   },
   "source": [
    "Feel free to create your own controller by implementing `derivate_XXX` function\n",
    "\n",
    "## References\n",
    "- [Source code of a real robot](https://github.com/zjor/balancing-robot)\n",
    "- [Project description](https://hackaday.io/project/180126-self-balancing-robot-for-humans)\n",
    "- [Video of a balancing robot](https://www.youtube.com/watch?v=1LGBiAcChJg)\n",
    "- [Python code for simulations](https://github.com/zjor/snippets/tree/master/python/ode_solver)"
   ]
  }
 ],
 "metadata": {
  "interpreter": {
   "hash": "767d51c1340bd893661ea55ea3124f6de3c7a262a8b4abca0554b478b1e2ff90"
  },
  "kernelspec": {
   "display_name": "Python 3.9.2 32-bit",
   "language": "python",
   "name": "python3"
  },
  "language_info": {
   "codemirror_mode": {
    "name": "ipython",
    "version": 3
   },
   "file_extension": ".py",
   "mimetype": "text/x-python",
   "name": "python",
   "nbconvert_exporter": "python",
   "pygments_lexer": "ipython3",
   "version": "3.8.10"
  },
  "papermill": {
   "default_parameters": {},
   "duration": 482.450042,
   "end_time": "2021-06-19T18:07:46.783518",
   "environment_variables": {},
   "exception": null,
   "input_path": "__notebook__.ipynb",
   "output_path": "__notebook__.ipynb",
   "parameters": {},
   "start_time": "2021-06-19T17:59:44.333476",
   "version": "2.3.3"
  }
 },
 "nbformat": 4,
 "nbformat_minor": 5
}
